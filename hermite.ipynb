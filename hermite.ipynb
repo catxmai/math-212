{
 "cells": [
  {
   "cell_type": "code",
   "execution_count": 114,
   "metadata": {
    "scrolled": false
   },
   "outputs": [
    {
     "name": "stdout",
     "output_type": "stream",
     "text": [
      "q_0,0 = 0.6065306597126334\n",
      "q_1,1 = 0\n",
      "q_2,2 = 0.12922822263025124\n",
      "q_3,3 = -0.2584564452605025\n",
      "q_4,4 = 0.14494317781341526\n",
      "q_5,5 = -0.04714486554949204\n",
      "q_6,6 = -0.002687965479184299\n",
      "q_7,7 = 0.023231774496880363\n",
      "q_8,8 = -0.015599267668826494\n",
      "q_9,9 = 0.010419410176000551\n",
      "q_10,10 = -0.004312392674372826\n",
      "q_11,11 = 0.0019142036925183653\n",
      "q_12,12 = -0.0006172518591985187\n",
      "q_13,13 = 0.00021276396687802177\n",
      "q_14,14 = -5.712388806809926e-05\n",
      "q_15,15 = 1.626591091140555e-05\n",
      "q_16,16 = -3.7623220823306586e-06\n",
      "q_17,17 = 9.164695789522095e-07\n",
      "q_18,18 = -1.8666026780831125e-07\n",
      "q_19,19 = 3.980722948109027e-08\n"
     ]
    },
    {
     "data": {
      "image/png": "[encoded data removed]",
      "text/plain": [
       "<Figure size 720x360 with 2 Axes>"
      ]
     },
     "metadata": {
      "needs_background": "light"
     },
     "output_type": "display_data"
    }
   ],
   "source": [
    "import math\n",
    "import matplotlib.pyplot as plt\n",
    "import numpy as np\n",
    "\n",
    "def f(x):\n",
    "    return x*(math.e**(-x/2))\n",
    "\n",
    "def f_prime(x):\n",
    "    return (math.e**(-x/2))*(1-0.5*x)\n",
    "\n",
    "class HermitePolynomial():\n",
    "    def __init__(self, x_array):\n",
    "        self.q = []\n",
    "        self.x_array = x_array\n",
    "        self.n = len(self.x_array)-1\n",
    "\n",
    "    def hermite_coeff(self, verbose=True):\n",
    "        n = self.n\n",
    "        z = [0 for i in range(2*n+2)]\n",
    "        q = [[0 for i in range(2*n+2)] for j in range(2*n+2)]\n",
    "\n",
    "        for i in range(n+1):\n",
    "            xi = self.x_array[i]\n",
    "            f_xi = f(xi)\n",
    "     \n",
    "            z[2*i] = xi\n",
    "            z[2*i+1] = xi\n",
    "            q[2*i][0] = f_xi\n",
    "            q[2*i+1][0] = f_xi\n",
    "            q[2*i][1] = f_prime(xi)\n",
    "\n",
    "            if i!=0:\n",
    "                q[2*i][1] = (q[2*i][0] - q[2*i-1][0]) / (z[2*i] - z[2*i-1])\n",
    "\n",
    "        for i in range(2,2*n+2):\n",
    "            for j in range(2,i+1):\n",
    "                q[i][j] = (q[i][j-1] - q[i-1][j-1]) / (z[i] - z[i-j])\n",
    "\n",
    "        if verbose:\n",
    "            for i in range(2*n+2):\n",
    "                print(f\"q_{i},{i} = {q[i][i]}\")\n",
    "\n",
    "        return q\n",
    "\n",
    "    def hermite_polynomial(self, x):\n",
    "        n = self.n\n",
    "        h = 0\n",
    "        # using memorization to store previous term result\n",
    "        memo = [1 for i in range(2*n+2)]\n",
    "\n",
    "        for i in range(1,2*n+2):\n",
    "            index = i/2-1 if i%2==0 else (i+1)/2-1\n",
    "            index = int(index)\n",
    "            memo[i] = memo[i-1]*(x-self.x_array[index])\n",
    "\n",
    "        for i in range(2*n+2):\n",
    "            h += self.q[i][i]*memo[i]     \n",
    "        return h\n",
    "\n",
    "    def plot(self):\n",
    "        x = np.arange(-5.0, 10.0, .3)\n",
    "        y = [self.hermite_polynomial(i) for i in x]\n",
    "        y_f = [f(i) for i in x]\n",
    "\n",
    "        fig, axes = plt.subplots(1, 2, figsize=(10, 5))\n",
    "        \n",
    "        axes[0].scatter(x,y)\n",
    "        axes[0].set_title(\"Interpolation polynomial\")\n",
    "        axes[1].scatter(x,y_f)\n",
    "        axes[1].set_title(\"x*e^(-x/2)\")\n",
    "     \n",
    "        \n",
    "x = [i for i in range(1,11)]\n",
    "h = HermitePolynomial(x)\n",
    "h.q = h.hermite_coeff()\n",
    "h.plot()\n",
    "\n",
    "# print(f(5))\n",
    "# h.hermite_polynomial(5)\n"
   ]
  },
  {
   "cell_type": "code",
   "execution_count": null,
   "metadata": {},
   "outputs": [],
   "source": []
  }
 ],
 "metadata": {
  "kernelspec": {
   "display_name": "Python 3",
   "language": "python",
   "name": "python3"
  },
  "language_info": {
   "codemirror_mode": {
    "name": "ipython",
    "version": 3
   },
   "file_extension": ".py",
   "mimetype": "text/x-python",
   "name": "python",
   "nbconvert_exporter": "python",
   "pygments_lexer": "ipython3",
   "version": "3.7.6"
  }
 },
 "nbformat": 4,
 "nbformat_minor": 4
}
