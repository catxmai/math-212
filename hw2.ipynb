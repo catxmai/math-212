{
 "cells": [
  {
   "cell_type": "code",
   "execution_count": 4,
   "metadata": {},
   "outputs": [
    {
     "name": "stdout",
     "output_type": "stream",
     "text": [
      "q_0,0 = 0.111\n",
      "q_1,0 = 0.333   q_1,1 = 0.667\n",
      "q_2,0 = 1.000   q_2,1 = 1.333      q_2,2 = 1.500\n",
      "q_3,0 = 3.000   q_3,1 = 2.000      q_3,2 = 1.833         q_3,3 = 1.778\n",
      "q_4,0 = 9.000   q_4,1 = 0.000      q_4,2 = 1.500         q_4,3 = 1.667            q_4,4 = 1.708\n"
     ]
    }
   ],
   "source": [
    "# Neville method\n",
    "# Question 8a\n",
    "\n",
    "def f(x):\n",
    "    return 3**x\n",
    "\n",
    "def neville_poly(x, x_arr, y_arr):\n",
    "    n = len(x_arr)\n",
    "    q = [[0 for i in range(n)] for j in range(n)]\n",
    "    \n",
    "    for i in range(len(x_arr)):\n",
    "        q[i][0] = y_arr[i]\n",
    "    \n",
    "    for i in range(1,n):\n",
    "        for j in range(1, i+1):\n",
    "            up = (x - x_arr[i-j])*q[i][j-1] - (x - x_arr[i])*q[i-1][j-1]\n",
    "            down = x_arr[i] - x_arr[i-j]\n",
    "            q[i][j] = up/down\n",
    "    return q\n",
    "\n",
    "def printq(q):\n",
    "    n = len(q[0])\n",
    "    for i in range(n):\n",
    "        string = \"\"\n",
    "        for j in range(i+1):\n",
    "            string += \"   \"*j\n",
    "            string += f\"q_{i},{j} = {q[i][j]:.3f}\"\n",
    "        print(string)\n",
    "        \n",
    "xs = [-2,-1,0,1,2]\n",
    "ys = [f(xs[i]) for i in range(len(xs))]\n",
    "q = neville_poly(1/2, xs, ys)\n",
    "printq(q)"
   ]
  },
  {
   "cell_type": "code",
   "execution_count": 8,
   "metadata": {
    "scrolled": false
   },
   "outputs": [
    {
     "name": "stdout",
     "output_type": "stream",
     "text": [
      "y = 0\n",
      "q_0,0 = 0.0\n",
      "q_1,0 = 0.0   q_1,1 = 0.0\n",
      "q_2,0 = 3.0   q_2,1 = 6.0      q_2,2 = 9.0\n",
      "q_3,0 = 2.0   q_3,1 = 2.5      q_3,2 = 3.7         q_3,3 = 5.0\n",
      "\t\n",
      "y = 1\n",
      "q_0,0 = 0.0\n",
      "q_1,0 = 1.0   q_1,1 = 3.0\n",
      "q_2,0 = 3.0   q_2,1 = 5.0      q_2,2 = 6.0\n",
      "q_3,0 = 2.0   q_3,1 = 2.5      q_3,2 = 3.3         q_3,3 = 4.0\n",
      "\t\n",
      "y = 2\n",
      "q_0,0 = 0.0\n",
      "q_1,0 = 2.0   q_1,1 = 6.0\n",
      "q_2,0 = 3.0   q_2,1 = 4.0      q_2,2 = 3.0\n",
      "q_3,0 = 2.0   q_3,1 = 2.5      q_3,2 = 3.0         q_3,3 = 3.0\n",
      "\t\n",
      "y = 3\n",
      "q_0,0 = 0.0\n",
      "q_1,0 = 3.0   q_1,1 = 9.0\n",
      "q_2,0 = 3.0   q_2,1 = 3.0      q_2,2 = 0.0\n",
      "q_3,0 = 2.0   q_3,1 = 2.5      q_3,2 = 2.7         q_3,3 = 2.0\n",
      "\t\n",
      "y = 4\n",
      "q_0,0 = 0.0\n",
      "q_1,0 = 4.0   q_1,1 = 12.0\n",
      "q_2,0 = 3.0   q_2,1 = 2.0      q_2,2 = -3.0\n",
      "q_3,0 = 2.0   q_3,1 = 2.5      q_3,2 = 2.3         q_3,3 = 1.0\n",
      "\t\n",
      "y = 5\n",
      "q_0,0 = 0.0\n",
      "q_1,0 = 5.0   q_1,1 = 15.0\n",
      "q_2,0 = 3.0   q_2,1 = 1.0      q_2,2 = -6.0\n",
      "q_3,0 = 2.0   q_3,1 = 2.5      q_3,2 = 2.0         q_3,3 = 0.0\n",
      "\t\n"
     ]
    }
   ],
   "source": [
    "# Question 8b\n",
    "\n",
    "def neville_poly(x, x_arr, y_arr):\n",
    "    n = len(x_arr)\n",
    "    q = [[0 for i in range(n)] for j in range(n)]\n",
    "    \n",
    "    for i in range(len(x_arr)):\n",
    "        q[i][0] = y_arr[i]\n",
    "    \n",
    "    for i in range(1,n):\n",
    "        for j in range(1, i+1):\n",
    "            up = (x - x_arr[i-j])*q[i][j-1] - (x - x_arr[i])*q[i-1][j-1]\n",
    "            down = x_arr[i] - x_arr[i-j]\n",
    "            q[i][j] = up/down\n",
    "    return q\n",
    "\n",
    "def printq(q):\n",
    "    n = len(q[0])\n",
    "    for i in range(n):\n",
    "        string = \"\"\n",
    "        for j in range(i+1):\n",
    "            string += \"   \"*j\n",
    "            string += f\"q_{i},{j} = {q[i][j]:.1f}\"\n",
    "        print(string)\n",
    "\n",
    "# trying out different y\n",
    "p = 1\n",
    "for y in range(7):\n",
    "    if p!=0:\n",
    "        xs = [0,.5,1,2]\n",
    "        ys = [0,y,3,2]\n",
    "        q = neville_poly(1.5, xs, ys)\n",
    "        p = q[3][3]\n",
    "        print(f\"y = {y}\")\n",
    "        printq(q)\n",
    "        print('\\t')\n",
    "    else:\n",
    "        break\n"
   ]
  },
  {
   "cell_type": "code",
   "execution_count": 63,
   "metadata": {},
   "outputs": [
    {
     "data": {
      "text/plain": [
       "15.841022642190707"
      ]
     },
     "execution_count": 63,
     "metadata": {},
     "output_type": "execute_result"
    }
   ],
   "source": [
    "import math\n",
    "def f(x):\n",
    "    return x*math.sin(2*x) - x**2\n",
    "\n",
    "x = .9\n",
    "(16*x*math.sin(2*x)) - (8*math.cos(2*x))\n"
   ]
  }
 ],
 "metadata": {
  "kernelspec": {
   "display_name": "Python 3",
   "language": "python",
   "name": "python3"
  },
  "language_info": {
   "codemirror_mode": {
    "name": "ipython",
    "version": 3
   },
   "file_extension": ".py",
   "mimetype": "text/x-python",
   "name": "python",
   "nbconvert_exporter": "python",
   "pygments_lexer": "ipython3",
   "version": "3.7.6"
  }
 },
 "nbformat": 4,
 "nbformat_minor": 4
}
