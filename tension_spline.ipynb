{
 "cells": [
  {
   "cell_type": "code",
   "execution_count": 13,
   "metadata": {
    "scrolled": false
   },
   "outputs": [
    {
     "data": {
      "text/plain": [
       "<matplotlib.collections.PathCollection at 0x26fc4d02dc8>"
      ]
     },
     "execution_count": 13,
     "metadata": {},
     "output_type": "execute_result"
    },
    {
     "data": {
      "image/png": "[encoded data removed]",
      "text/plain": [
       "<Figure size 1080x432 with 1 Axes>"
      ]
     },
     "metadata": {
      "needs_background": "light"
     },
     "output_type": "display_data"
    }
   ],
   "source": [
    "import numpy as np\n",
    "import matplotlib.pyplot as plt\n",
    "\n",
    "# bunch of points t0, .., tn and y0,...,yn\n",
    "t = [-1.5,1,2,20,32,40,53,60,65,70,72,75]\n",
    "y = [0,1,4,8,15,15,15,9,8,7,2,1]\n",
    "\n",
    "# points bottom\n",
    "t_bot = [-1.5,-1,1,4,8,10,5,14,17.5,20,40,49,51.5,55,58.5,61,70,72,74.5,75]\n",
    "y_bot = [0,-3,-4,-4.5,-6,-9,-10,-9,-9,-6,-6,-6,-9,-10,-9,-6,-6,-4,-3,1]\n",
    "\n",
    "\n",
    "tau = 10\n",
    "assert len(t) == len(y)\n",
    "n = len(t)-1\n",
    "h, a, b, g = [0 for i in range(n)], [0 for i in range(n)], [0 for i in range(n)], [0 for i in range(n)]\n",
    "\n",
    "for i in range(n):\n",
    "    h[i] = t[i+1] - t[i]\n",
    "    g[i] = tau**2 *(y[i+1] - y[i])/h[i]\n",
    "    a[i] = 1/h[i] - tau/np.sinh(tau*h[i])\n",
    "    b[i] = tau*np.cosh(tau*h[i])/np.sinh(tau*h[i]) - 1/h[i]\n",
    "    \n",
    "\n",
    "sys = np.zeros((n+1,n+1))\n",
    "for row in range(1,n):\n",
    "    sys[row][row-1] = a[i-1]\n",
    "    sys[row][row] = b[i-1] + b[i]\n",
    "    sys[row][row+1] = a[i]\n",
    "sys[0][0] = 1\n",
    "sys[n][n] = 1\n",
    "\n",
    "beta = np.zeros((n+1,1))\n",
    "for i in range(1, n):\n",
    "    beta[i][0] = g[i] - g[i-1]\n",
    "\n",
    "beta = np.asmatrix(beta)\n",
    "sys = np.asmatrix(sys)\n",
    "z = np.linalg.inv(sys)*beta\n",
    "\n",
    "\n",
    "def f(x,i):\n",
    "    t1 = (z[i]*np.sinh(tau*(t[i+1]-x))) + (z[i+1]*np.sinh(tau*(x-t[i])))\n",
    "    t1 = t1/(tau**2 * np.sinh(tau*h[i]))\n",
    "    t2 = (y[i]-z[i]/tau**2)*(t[i+1]-x)/h[i]\n",
    "    t3 = (y[i+1]-z[i+1]/tau**2)*(x-t[i])/h[i]\n",
    "    return float(t1 + t2 + t3)\n",
    "\n",
    "fx,fy = [],[]\n",
    "for i in range(n):\n",
    "    x_vals = np.arange(t[i], t[i+1], .05)\n",
    "    y_vals = [f(x,i) for x in x_vals]\n",
    "    for x in x_vals:\n",
    "        fx.append(x)\n",
    "    for ys in y_vals:\n",
    "        fy.append(ys)\n",
    "plt.figure(figsize=(15,6))\n",
    "plt.scatter(fx,fy)"
   ]
  },
  {
   "cell_type": "code",
   "execution_count": 15,
   "metadata": {},
   "outputs": [
    {
     "data": {
      "text/plain": [
       "<matplotlib.collections.PathCollection at 0x26fc54be348>"
      ]
     },
     "execution_count": 15,
     "metadata": {},
     "output_type": "execute_result"
    },
    {
     "data": {
      "image/png": "[encoded data removed]",
      "text/plain": [
       "<Figure size 1080x432 with 1 Axes>"
      ]
     },
     "metadata": {
      "needs_background": "light"
     },
     "output_type": "display_data"
    }
   ],
   "source": [
    "import numpy as np\n",
    "import matplotlib.pyplot as plt\n",
    "\n",
    "# bunch of points t0, .., tn and y0,...,yn\n",
    "t = [-1.5,-1,1,4,8,10,5,14,17.5,20,40,49,51.5,55,58.5,61,70,72,74.5,75]\n",
    "y = [0,-3,-4,-4.5,-6,-9,-10,-9,-9,-6,-6,-6,-9,-10,-9,-6,-6,-4,-3,1]\n",
    "\n",
    "\n",
    "\n",
    "tau = 10\n",
    "assert len(t) == len(y)\n",
    "n = len(t)-1\n",
    "h, a, b, g = [0 for i in range(n)], [0 for i in range(n)], [0 for i in range(n)], [0 for i in range(n)]\n",
    "\n",
    "for i in range(n):\n",
    "    h[i] = t[i+1] - t[i]\n",
    "    g[i] = tau**2 *(y[i+1] - y[i])/h[i]\n",
    "    a[i] = 1/h[i] - tau/np.sinh(tau*h[i])\n",
    "    b[i] = tau*np.cosh(tau*h[i])/np.sinh(tau*h[i]) - 1/h[i]\n",
    "    \n",
    "\n",
    "sys = np.zeros((n+1,n+1))\n",
    "for row in range(1,n):\n",
    "    sys[row][row-1] = a[i-1]\n",
    "    sys[row][row] = b[i-1] + b[i]\n",
    "    sys[row][row+1] = a[i]\n",
    "sys[0][0] = 1\n",
    "sys[n][n] = 1\n",
    "\n",
    "beta = np.zeros((n+1,1))\n",
    "for i in range(1, n):\n",
    "    beta[i][0] = g[i] - g[i-1]\n",
    "\n",
    "beta = np.asmatrix(beta)\n",
    "sys = np.asmatrix(sys)\n",
    "z = np.linalg.inv(sys)*beta\n",
    "\n",
    "\n",
    "def f(x,i):\n",
    "    t1 = (z[i]*np.sinh(tau*(t[i+1]-x))) + (z[i+1]*np.sinh(tau*(x-t[i])))\n",
    "    t1 = t1/(tau**2 * np.sinh(tau*h[i]))\n",
    "    t2 = (y[i]-z[i]/tau**2)*(t[i+1]-x)/h[i]\n",
    "    t3 = (y[i+1]-z[i+1]/tau**2)*(x-t[i])/h[i]\n",
    "    return float(t1 + t2 + t3)\n",
    "\n",
    "fx,fy = [],[]\n",
    "for i in range(n):\n",
    "    x_vals = np.arange(t[i], t[i+1], .005)\n",
    "    y_vals = [f(x,i) for x in x_vals]\n",
    "    for x in x_vals:\n",
    "        fx.append(x)\n",
    "    for ys in y_vals:\n",
    "        fy.append(ys)\n",
    "plt.figure(figsize=(15,6))\n",
    "plt.scatter(fx,fy)"
   ]
  },
  {
   "cell_type": "code",
   "execution_count": null,
   "metadata": {},
   "outputs": [],
   "source": []
  }
 ],
 "metadata": {
  "kernelspec": {
   "display_name": "Python 3",
   "language": "python",
   "name": "python3"
  },
  "language_info": {
   "codemirror_mode": {
    "name": "ipython",
    "version": 3
   },
   "file_extension": ".py",
   "mimetype": "text/x-python",
   "name": "python",
   "nbconvert_exporter": "python",
   "pygments_lexer": "ipython3",
   "version": "3.7.6"
  }
 },
 "nbformat": 4,
 "nbformat_minor": 4
}
