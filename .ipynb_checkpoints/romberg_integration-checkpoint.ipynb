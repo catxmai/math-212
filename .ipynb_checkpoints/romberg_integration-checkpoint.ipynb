{
 "cells": [
  {
   "cell_type": "code",
   "execution_count": 67,
   "metadata": {
    "scrolled": false
   },
   "outputs": [
    {
     "name": "stdout",
     "output_type": "stream",
     "text": [
      "\n",
      "a)\n",
      "R_1,1 = 62.43737140065479\n",
      "R_2,1 = 59.714931604027896\n",
      "R_3,1 = 59.587391416811876\n",
      "R_4,1 = 59.235140630818044\n",
      "R_5,1 = 59.01737353636255\n",
      "Average = 59.77005723190359\n",
      "\n",
      "b)\n",
      "R_1,1 = 62.43737140065479\n",
      "R_2,2 = 58.80745167181893\n",
      "R_3,3 = 59.59403977769015\n",
      "R_4,4 = 59.081234159778916\n",
      "R_5,5 = 58.93018914957517\n",
      "Average = 59.77005723190359\n",
      "\n",
      "c)\n",
      "R_6,1 = 58.89835567017043\n",
      "R_6,2 = 58.85868304810639\n",
      "R_6,3 = 58.85294295098833\n",
      "R_6,4 = 58.85166815298721\n",
      "R_6,5 = 58.851357913708156\n",
      "Average = 58.86260154719211\n",
      "\n",
      "d)\n",
      "R_7,7 = 58.24512021237924\n",
      "R_8,8 = 58.37287725760714\n",
      "R_9,9 = 58.359172164262404\n",
      "R_10,10 = 58.35410708046452\n",
      "Average = 58.332819178678335\n"
     ]
    }
   ],
   "source": [
    "import math\n",
    "\n",
    "def f(x):\n",
    "    return math.sqrt(1+(math.cos(x)**2))\n",
    "\n",
    "def trap(h,j,a):\n",
    "    sum = 0\n",
    "    for i in range(1,int(2**(j-2)+1)):\n",
    "        sum += f(a+(2*i-1)*h)\n",
    "    return h/2 * sum\n",
    "\n",
    "def romberg(a,b,n):\n",
    "    R = [[1 for i in range(n+1)] for j in range(n+1)]\n",
    "    h = b-a\n",
    "    R[1][1] = h/2 * (f(a)+f(b))\n",
    "    for j in range(2,n+1):\n",
    "        R[j][1] = R[j-1][1]/2 + trap(h,j,a)\n",
    "        \n",
    "        for k in range(2,j+1):\n",
    "            R[j][k] = (4**(k-1)*R[j][k-1] - R[j-1][k-1]) / (4**(k-1)-1)\n",
    "            \n",
    "        h = h/2\n",
    "    return R\n",
    "        \n",
    "R = romberg(0,48,12)\n",
    "\n",
    "# PRINTING OUTPUT ONLY, NO ALGORITHM BELOW\n",
    "# 7a\n",
    "print('\\na)')\n",
    "sum = 0\n",
    "for i in range(1,6):\n",
    "    sum += R[i][i]\n",
    "    print(f\"R_{i},{1} = {R[i][1]}\")\n",
    "print(f\"Average = {sum/5}\")\n",
    "\n",
    "print('\\nb)')\n",
    "# 7b\n",
    "sum = 0\n",
    "for i in range(1,6):\n",
    "    sum += R[i][i]\n",
    "    print(f\"R_{i},{i} = {R[i][i]}\")\n",
    "print(f\"Average = {sum/5}\")\n",
    "    \n",
    "print('\\nc)')\n",
    "# 7c\n",
    "sum=0\n",
    "for i in range(1,6):\n",
    "    sum += R[6][i]\n",
    "    print(f\"R_{6},{i} = {R[6][i]}\")\n",
    "print(f\"Average = {sum/5}\")\n",
    "    \n",
    "print('\\nd)')\n",
    "# 7c\n",
    "sum=0\n",
    "for i in range(7,11):\n",
    "    sum += R[i][i]\n",
    "    print(f\"R_{i},{i} = {R[i][i]}\")\n",
    "print(f\"Average = {sum/4}\")"
   ]
  },
  {
   "cell_type": "code",
   "execution_count": 66,
   "metadata": {},
   "outputs": [
    {
     "name": "stdout",
     "output_type": "stream",
     "text": [
      "R_12,12 = 3.820197789027711\n",
      "48/pi * R_12,12 = 58.368322724399015\n"
     ]
    }
   ],
   "source": [
    "# Reformulation to 0->pi\n",
    "\n",
    "R = romberg(0,math.pi,12)\n",
    "\n",
    "print(f\"R_12,12 = {R[12][12]}\")\n",
    "print(f\"48/pi * R_12,12 = {48/math.pi*R[12][12]}\")"
   ]
  }
 ],
 "metadata": {
  "kernelspec": {
   "display_name": "Python 3",
   "language": "python",
   "name": "python3"
  },
  "language_info": {
   "codemirror_mode": {
    "name": "ipython",
    "version": 3
   },
   "file_extension": ".py",
   "mimetype": "text/x-python",
   "name": "python",
   "nbconvert_exporter": "python",
   "pygments_lexer": "ipython3",
   "version": "3.7.6"
  }
 },
 "nbformat": 4,
 "nbformat_minor": 4
}
