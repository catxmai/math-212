{
 "cells": [
  {
   "cell_type": "code",
   "execution_count": 3,
   "metadata": {},
   "outputs": [],
   "source": [
    "import math\n",
    "\n",
    "def f(x):\n",
    "    return x*math.e**(-x/2)\n",
    "\n",
    "def f_prime(x):\n",
    "    return (math.e**(-x/2))*(1-0.5*x)\n",
    "\n",
    "def hermite_interpolation(x_array):\n",
    "    n = len(x_array)-1\n",
    "    z = [0 for i in range(2*n+2)]\n",
    "    q = [[0 for i in range(2*n+2)] for j in range(2*n+2)]\n",
    "    \n",
    "    for i in range(n+1):\n",
    "        xi = x_array[i]\n",
    "        f_xi = f(xi)\n",
    "        \n",
    "        z[2*i] = xi\n",
    "        z[2*i+1] = f_xi\n",
    "        q[2*i][0] = f_xi\n",
    "        q[2*i+1][0] = f_xi\n",
    "        q[2*i+1][1] = f_prime(xi)\n",
    "        \n",
    "        if i!=0:\n",
    "            q[2*i][0] = (q[2*i][0] - q[2*i-1][0]) / (z[2*i] - z[2*i-1])\n",
    "            \n",
    "    for i in range(2,2*n+2):\n",
    "        for j in range(2,i+1):\n",
    "            q[i][j] = (q[i][j-1] - q[i-1][j-1]) / (z[i] - z[i-j])\n",
    "            \n",
    "    return q\n",
    "\n",
    "def print_hermite(q):\n",
    "    for i in range(2*n+2):\n",
    "        print(f\"q_{i},{i} = {q[i][i]}\")"
   ]
  }
 ],
 "metadata": {
  "kernelspec": {
   "display_name": "Python 3",
   "language": "python",
   "name": "python3"
  },
  "language_info": {
   "codemirror_mode": {
    "name": "ipython",
    "version": 3
   },
   "file_extension": ".py",
   "mimetype": "text/x-python",
   "name": "python",
   "nbconvert_exporter": "python",
   "pygments_lexer": "ipython3",
   "version": "3.7.6"
  }
 },
 "nbformat": 4,
 "nbformat_minor": 4
}
