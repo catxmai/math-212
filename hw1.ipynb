{
 "cells": [
  {
   "cell_type": "code",
   "execution_count": 41,
   "metadata": {},
   "outputs": [
    {
     "name": "stdout",
     "output_type": "stream",
     "text": [
      "2.8304480485374284 err :0.3304480485374284\n",
      "3.0854234303730657 err :0.2549753818356373\n",
      "3.1597830999678025 err :0.07435966959473683\n",
      "3.1620160631981404 err :0.0022329632303379476\n",
      "3.1619478955531175 err :6.816764502293182e-05\n"
     ]
    }
   ],
   "source": [
    "# problem 5\n",
    "import math\n",
    "\n",
    "p0 = 2.5\n",
    "tol=10**-4\n",
    "\n",
    "def f(x, tol ,max_n=80):\n",
    "    i = 0\n",
    "    err = 1\n",
    "    \n",
    "    while i < max_n and err > tol:\n",
    "        r = (-10*math.cos(x))**(.5)\n",
    "        err = abs(r-x)\n",
    "        print(str(r) + \" err :\" + str(err))\n",
    "        i += 1\n",
    "        x = r\n",
    "f(p0, tol)"
   ]
  },
  {
   "cell_type": "code",
   "execution_count": 42,
   "metadata": {},
   "outputs": [
    {
     "name": "stdout",
     "output_type": "stream",
     "text": [
      "1.9823131728623846 err :0.01768682713761538\n",
      "1.9746409102983506 err :0.0076722625640339714\n",
      "1.971341771787022 err :0.00329913851132857\n",
      "1.9699284606691403 err :0.001413311117881788\n",
      "1.9693239957445368 err :0.0006044649246035316\n",
      "1.9690656489227762 err :0.0002583468217605134\n",
      "1.9689552648754658 err :0.00011038404731045226\n",
      "1.9689081069760912 err :4.715789937459469e-05\n"
     ]
    }
   ],
   "source": [
    "# problem 5\n",
    "import math\n",
    "\n",
    "p0 = 2\n",
    "tol=10**-4\n",
    "\n",
    "def f(x, tol ,max_n=80):\n",
    "    i = 0\n",
    "    err = 1\n",
    "    \n",
    "    while i < max_n and err > tol:\n",
    "        r = math.acos(-(x**2)/10)\n",
    "        err = abs(r-x)\n",
    "        print(str(r) + \" err :\" + str(err))\n",
    "        i += 1\n",
    "        x = r\n",
    "f(p0, tol)"
   ]
  },
  {
   "cell_type": "code",
   "execution_count": 50,
   "metadata": {},
   "outputs": [
    {
     "name": "stdout",
     "output_type": "stream",
     "text": [
      "p_2 = 0.2689414213699952, err = 0.2689414213699952\n",
      "p_3 = 0.2571707218292616, err = 0.01177069954073362\n",
      "p_4 = 0.25754183541115755, err = 0.7424581645888424\n",
      "p_5 = 0.2575302858280432, err = 0.00035956399878162015\n",
      "approximation achieved after 5 iterations\n"
     ]
    }
   ],
   "source": [
    "# problem 7\n",
    "import math\n",
    "def f(x):\n",
    "    return (math.e**x) - (x**2) + (3*x) - 2\n",
    "\n",
    "def secant_intercept(p0,p1):\n",
    "    fp0 = f(p0)\n",
    "    fp1 = f(p1)\n",
    "    p2 = p1 - fp1*((p1-p0)/(fp1-fp0))\n",
    "    return p2\n",
    "\n",
    "def false_pos(p0, p1, tol, max_n = 5000):\n",
    "    i = 2\n",
    "    q0 = f(p0)\n",
    "    q1 = f(p1)\n",
    "    \n",
    "    while (i < max_n):\n",
    "        p = secant_intercept(p0,p1)\n",
    "        if abs(p-p0) < tol:\n",
    "            print(f\"p_{i} = {p}, err = {abs(p-p0)}\")\n",
    "            print(f\"approximation achieved after {i} iterations\")\n",
    "            return\n",
    "        \n",
    "        q = f(p)\n",
    "        print(f\"p_{i} = {p}, err = {abs(p-p0)}\")\n",
    "        i += 1\n",
    "        if q*q1 < 0:\n",
    "            p0 = p1\n",
    "            q0 = q1 \n",
    "            p1 = p\n",
    "            q1 = q\n",
    "        else:\n",
    "            p0 = p\n",
    "            q0 = f(p)\n",
    "\n",
    "    print(f\"Method failed after {max_n} interations\")\n",
    "\n",
    "p0 = 0\n",
    "p1 = 1\n",
    "TOL = 10**(-3)\n",
    "false_pos(p0,p1,TOL)\n"
   ]
  },
  {
   "cell_type": "code",
   "execution_count": null,
   "metadata": {},
   "outputs": [],
   "source": []
  }
 ],
 "metadata": {
  "kernelspec": {
   "display_name": "Python 3",
   "language": "python",
   "name": "python3"
  },
  "language_info": {
   "codemirror_mode": {
    "name": "ipython",
    "version": 3
   },
   "file_extension": ".py",
   "mimetype": "text/x-python",
   "name": "python",
   "nbconvert_exporter": "python",
   "pygments_lexer": "ipython3",
   "version": "3.7.6"
  }
 },
 "nbformat": 4,
 "nbformat_minor": 4
}
